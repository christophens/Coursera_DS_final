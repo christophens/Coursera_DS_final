{
 "cells": [
  {
   "cell_type": "markdown",
   "metadata": {},
   "source": [
    "Current Work in progress"
   ]
  },
  {
   "cell_type": "code",
   "execution_count": null,
   "metadata": {},
   "outputs": [],
   "source": [
    "#Import necessary libraries\n",
    "import pandas as pd\n",
    "import numpy as np\n",
    "import folium\n",
    "import json, requests\n",
    "from uszipcode import SearchEngine\n",
    "import re"
   ]
  },
  {
   "cell_type": "code",
   "execution_count": null,
   "metadata": {},
   "outputs": [],
   "source": [
    "#Import New York neighborhood data\n",
    "with open('newyork_data.json') as json_data:\n",
    "    nydata_json = json.load(json_data)\n",
    "#Build Data Frame\n",
    "ny_neighborhoods_data = nydata_json['features']\n",
    "ny_neighborhoods_df = pd.DataFrame(columns = ['Borough', 'Neighborhood', 'Latitude', 'Longitude'])\n",
    "\n",
    "for data in ny_neighborhoods_data:\n",
    "    borough = neighborhood_name = data['properties']['borough'] \n",
    "    neighborhood_name = data['properties']['name']\n",
    "        \n",
    "    neighborhood_latlon = data['geometry']['coordinates']\n",
    "    neighborhood_lat = neighborhood_latlon[1]\n",
    "    neighborhood_lon = neighborhood_latlon[0]\n",
    "    \n",
    "    ny_neighborhoods_df = ny_neighborhoods_df.append({'Borough': borough,\n",
    "                                          'Neighborhood': neighborhood_name,\n",
    "                                          'Latitude': neighborhood_lat,\n",
    "                                          'Longitude': neighborhood_lon}, ignore_index=True)"
   ]
  },
  {
   "cell_type": "code",
   "execution_count": null,
   "metadata": {},
   "outputs": [],
   "source": [
    "ny_postalcodes_list = []\n",
    "ny_postalcodes_url = 'https://zipcode.org/city/NY/NEWYORK'\n",
    "page = requests.get(ny_postalcodes_url, allow_redirects=False, timeout=30).text\n",
    "\n",
    "test = re.findall('(?<=\"List_Link_Text\">)\\d\\d\\d\\d\\d', page)\n",
    "test = re.findall('10\\d\\d\\d', page)\n",
    "test"
   ]
  },
  {
   "cell_type": "code",
   "execution_count": null,
   "metadata": {},
   "outputs": [],
   "source": [
    "def foursquare_url(endpoint, **kwargs):\n",
    "    # Foursquare Login Credentials\n",
    "    foursquare_id_client = 'X'\n",
    "    foursquare_id_secret = 'X'\n",
    "    foursquare_id_version = '20200801'   \n",
    "    \n",
    "    # Construct base url with selected api endpoint and authentication credentials\n",
    "    url = 'https://api.foursquare.com/v2/venues/'\n",
    "    url = url + '{}?&client_id={}&client_secret={}&v={}'.format(endpoint, foursquare_id_client, \n",
    "                                                               foursquare_id_secret, foursquare_id_version) \n",
    "\n",
    "    if endpoint == 'search':\n",
    "        search_keywords = {'radius', 'query', 'limit', 'lattitude', 'longitude', 'near', 'categoryId'}\n",
    "        coordinates_flag = False\n",
    "        near_flag = False\n",
    "        for key, value in kwargs.items():\n",
    "            # Check if valid key was provided\n",
    "            if key in search_keywords:\n",
    "                # Handle simple keys: radius, query and limit\n",
    "                if key in {'radius', 'query', 'limit'}:\n",
    "                    url = url + '&{}={}'.format(key, value)\n",
    "\n",
    "                # Handle coordinate keys: If one of either is found \n",
    "                # and no coordinates have yet been added\n",
    "                elif (key == 'lattitude' or key == 'longitude') and (not coordinates_flag):\n",
    "                    # check if no near information has been provided\n",
    "                    if not near_flag:\n",
    "                        # Check if arguments contain both lat and long information, then add them to\n",
    "                        # url and set the coordinate flag to True\n",
    "                        if 'lattitude' in kwargs and 'longitude' in kwargs:\n",
    "                            url = url + '&ll={},{}'.format(kwargs.get('lattitude'), kwargs.get('longitude'))\n",
    "                            coordinates_flag = True\n",
    "                        # Raise exception if either keyword is corrupted or missing\n",
    "                        else:\n",
    "                            print('Error with entering coordinates')\n",
    "                            return\n",
    "                    # Raise exception if keywords contain both coordinates and near information\n",
    "                    else:\n",
    "                        print('Coordinates and near a location used simultaneously.')\n",
    "                        return\n",
    "                # Handle near key: If a near key has been provided and no coordinates were entered\n",
    "                elif key == 'near':\n",
    "                    # Check if no coordinates were entered yet, then add near parameter to url\n",
    "                    # and set near_flag to true \n",
    "                    if not coordinates_flag:   \n",
    "                        url = url + '&{}={}'.format(key, value)\n",
    "                        near_flag = True\n",
    "                    # Raise exception if keywords contain both coordinates and near information\n",
    "                    else:\n",
    "                        print('Coordinates and near a location used simultaneously.')\n",
    "                        return                \n",
    "                elif key == 'categoryId':\n",
    "                    Id_string = \",\".join(value)\n",
    "                    url = url + '&{}={}'.format(key, Id_string)\n",
    "            else:\n",
    "                print('Wrong key: ' + key)\n",
    "                return\n",
    "    return url"
   ]
  }
 ],
 "metadata": {
  "kernelspec": {
   "display_name": "Python 3",
   "language": "python",
   "name": "python3"
  },
  "language_info": {
   "codemirror_mode": {
    "name": "ipython",
    "version": 3
   },
   "file_extension": ".py",
   "mimetype": "text/x-python",
   "name": "python",
   "nbconvert_exporter": "python",
   "pygments_lexer": "ipython3",
   "version": "3.7.7"
  }
 },
 "nbformat": 4,
 "nbformat_minor": 4
}
