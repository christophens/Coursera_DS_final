{
 "cells": [
  {
   "cell_type": "markdown",
   "metadata": {},
   "source": [
    "Current Work in progress test2"
   ]
  },
  {
   "cell_type": "code",
   "execution_count": 16,
   "metadata": {},
   "outputs": [],
   "source": [
    "import pandas as pd\n",
    "import numpy as np\n",
    "import folium\n",
    "import json, requests"
   ]
  },
  {
   "cell_type": "code",
   "execution_count": 17,
   "metadata": {},
   "outputs": [],
   "source": [
    "#Foursquare API Login\n",
    "foursquare_id_client = 'PGHLXB52TSXRO5T5IIWLEG3HKZLZXLWOOX0HR54MENTTZC4M'\n",
    "foursquare_id_secret = 'S2WHF2IA1EQLEATW5UMIZWOR0JUIMUZL4TJ4ATHHXS1EHATI'\n",
    "foursquare_id_version = '20200801'"
   ]
  },
  {
   "cell_type": "code",
   "execution_count": 52,
   "metadata": {},
   "outputs": [],
   "source": [
    "def foursquare_url(endpoint, **kwargs):\n",
    "    # Foursquare Login Credentials\n",
    "    foursquare_id_client = 'PGHLXB52TSXRO5T5IIWLEG3HKZLZXLWOOX0HR54MENTTZC4M'\n",
    "    foursquare_id_secret = 'S2WHF2IA1EQLEATW5UMIZWOR0JUIMUZL4TJ4ATHHXS1EHATI'\n",
    "    foursquare_id_version = '20200801'\n",
    "    \n",
    "    # Lists of allowed keywords\n",
    "    search_keywords_simple = ['radius', 'query', 'limit']\n",
    "    near_flag = False\n",
    "    coordinates_flag = False\n",
    "    \n",
    "    \n",
    "    \n",
    "    # Construct base url with selected api endpoint and authentication credentials\n",
    "    url = 'https://api.foursquare.com/v2/venues/'\n",
    "    url = url + '{}?&client_id={}&client_secret={}&={}'.format(endpoint, foursquare_id_client, \n",
    "                                                               foursquare_id_secret, foursquare_id_version)\n",
    "    if endpoint == 'search':\n",
    "        for key, value in kwargs.items():\n",
    "            \n",
    "            if key in search_keywords_simple:\n",
    "                url = url + '&{}={}'.format(key, value)\n",
    "            \n",
    "            elif (str(key) == 'lattitude' or str(key) == 'longitude') and (not coordinates_flag):\n",
    "                if not near_flag:\n",
    "                    try:\n",
    "                        l1 = kwargs.get(lattitude)\n",
    "                        l2 = kwargs.get(longitude)\n",
    "                        url = url + '&ll={},{}'.format(l1, l2)\n",
    "                    except:\n",
    "                        print('Error with entering coordinates')\n",
    "                        return               \n",
    "                \n",
    "            else:\n",
    "                print(\"Wrong key: %s\" % key)\n",
    "                return\n",
    "             \n",
    "    return url"
   ]
  },
  {
   "cell_type": "code",
   "execution_count": 53,
   "metadata": {},
   "outputs": [
    {
     "name": "stdout",
     "output_type": "stream",
     "text": [
      "Error with entering coordinates\n"
     ]
    }
   ],
   "source": [
    "url = foursquare_url('search', radius = '500', lattitude = '50.0782184', longitude = '8.2397608')\n",
    "url"
   ]
  },
  {
   "cell_type": "code",
   "execution_count": 48,
   "metadata": {},
   "outputs": [],
   "source": [
    "lattitude = '50.0782184'\n",
    "longitude = '8.2397608'\n",
    "endpoint = 'search'\n",
    "radius = 3000\n",
    "limit = 100\n",
    "query = 'Palast'"
   ]
  },
  {
   "cell_type": "code",
   "execution_count": 49,
   "metadata": {},
   "outputs": [
    {
     "data": {
      "text/plain": [
       "'https://api.foursquare.com/v2/venues/search?&client_id=PGHLXB52TSXRO5T5IIWLEG3HKZLZXLWOOX0HR54MENTTZC4M&client_secret=S2WHF2IA1EQLEATW5UMIZWOR0JUIMUZL4TJ4ATHHXS1EHATI&v=20200801&ll=50.0782184,8.2397608&radius=3000&limit=100&query=Palast'"
      ]
     },
     "execution_count": 49,
     "metadata": {},
     "output_type": "execute_result"
    }
   ],
   "source": [
    "url = 'https://api.foursquare.com/v2/venues/{}?&client_id={}&client_secret={}&v={}&ll={},{}&radius={}&limit={}&query={}'.format(\n",
    "    endpoint, foursquare_id_client, foursquare_id_secret, foursquare_id_version, \n",
    "    lattitude, longitude, radius, limit, query\n",
    "    )\n",
    "url"
   ]
  },
  {
   "cell_type": "code",
   "execution_count": 50,
   "metadata": {},
   "outputs": [],
   "source": [
    "results = requests.get(url).json()"
   ]
  },
  {
   "cell_type": "code",
   "execution_count": null,
   "metadata": {},
   "outputs": [],
   "source": []
  }
 ],
 "metadata": {
  "kernelspec": {
   "display_name": "Python 3",
   "language": "python",
   "name": "python3"
  },
  "language_info": {
   "codemirror_mode": {
    "name": "ipython",
    "version": 3
   },
   "file_extension": ".py",
   "mimetype": "text/x-python",
   "name": "python",
   "nbconvert_exporter": "python",
   "pygments_lexer": "ipython3",
   "version": "3.7.7"
  }
 },
 "nbformat": 4,
 "nbformat_minor": 4
}
